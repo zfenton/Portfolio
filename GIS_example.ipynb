{
  "cells": [
    {
      "cell_type": "markdown",
      "metadata": {},
      "source": [
        "### Planned Unit Development (PUDs) with affordable housing in the Washington D.C. Area\n",
        "This notebook shows utilization of Google Colab. Best used of uploaded to google colab. \n",
        "\n",
        "---\n",
        "\n",
        "Data is from opendata.dc.gov\n",
        "- [PUD](https://opendata.dc.gov/datasets/planned-unit-development-puds/explore?location=38.878434%2C-77.001490%2C12.30)\n",
        "    - Download the .shp file from the menue\n",
        "- [Affordable housing](https://opendata.dc.gov/datasets/affordable-housing/explore)\n",
        "    - Download the .csv file\n",
        "- Will also need the zoning_crosswalk.csv file located [here](https://drive.google.com/file/d/1RxxikCuiAelk71giceUrJWNAK34KBwDF/view)\n",
        " \n",
        "---\n",
        "\n",
        "This utilizes the geopands library. This library is a geolocation tuned pandas library for GIS applications.\n",
        "It also uses rtree for joining. Most likeley, these packages are not pre-installed in google colab and will need to be done. "
      ]
    },
    {
      "cell_type": "code",
      "execution_count": 2,
      "metadata": {
        "colab": {
          "base_uri": "https://localhost:8080/"
        },
        "id": "MgFMUqggJhQU",
        "outputId": "15ba306b-ed37-4861-a8ec-20bda739f0b1"
      },
      "outputs": [
        {
          "name": "stdout",
          "output_type": "stream",
          "text": [
            "Requirement already satisfied: geopandas in /usr/local/lib/python3.10/dist-packages (0.13.2)\n",
            "Requirement already satisfied: fiona>=1.8.19 in /usr/local/lib/python3.10/dist-packages (from geopandas) (1.9.5)\n",
            "Requirement already satisfied: packaging in /usr/local/lib/python3.10/dist-packages (from geopandas) (23.2)\n",
            "Requirement already satisfied: pandas>=1.1.0 in /usr/local/lib/python3.10/dist-packages (from geopandas) (1.5.3)\n",
            "Requirement already satisfied: pyproj>=3.0.1 in /usr/local/lib/python3.10/dist-packages (from geopandas) (3.6.1)\n",
            "Requirement already satisfied: shapely>=1.7.1 in /usr/local/lib/python3.10/dist-packages (from geopandas) (2.0.2)\n",
            "Requirement already satisfied: attrs>=19.2.0 in /usr/local/lib/python3.10/dist-packages (from fiona>=1.8.19->geopandas) (23.1.0)\n",
            "Requirement already satisfied: certifi in /usr/local/lib/python3.10/dist-packages (from fiona>=1.8.19->geopandas) (2023.11.17)\n",
            "Requirement already satisfied: click~=8.0 in /usr/local/lib/python3.10/dist-packages (from fiona>=1.8.19->geopandas) (8.1.7)\n",
            "Requirement already satisfied: click-plugins>=1.0 in /usr/local/lib/python3.10/dist-packages (from fiona>=1.8.19->geopandas) (1.1.1)\n",
            "Requirement already satisfied: cligj>=0.5 in /usr/local/lib/python3.10/dist-packages (from fiona>=1.8.19->geopandas) (0.7.2)\n",
            "Requirement already satisfied: six in /usr/local/lib/python3.10/dist-packages (from fiona>=1.8.19->geopandas) (1.16.0)\n",
            "Requirement already satisfied: setuptools in /usr/local/lib/python3.10/dist-packages (from fiona>=1.8.19->geopandas) (67.7.2)\n",
            "Requirement already satisfied: python-dateutil>=2.8.1 in /usr/local/lib/python3.10/dist-packages (from pandas>=1.1.0->geopandas) (2.8.2)\n",
            "Requirement already satisfied: pytz>=2020.1 in /usr/local/lib/python3.10/dist-packages (from pandas>=1.1.0->geopandas) (2023.3.post1)\n",
            "Requirement already satisfied: numpy>=1.21.0 in /usr/local/lib/python3.10/dist-packages (from pandas>=1.1.0->geopandas) (1.23.5)\n",
            "Reading package lists... Done\n",
            "Building dependency tree... Done\n",
            "Reading state information... Done\n",
            "The following additional packages will be installed:\n",
            "  libspatialindex-c6 libspatialindex6\n",
            "The following NEW packages will be installed:\n",
            "  libspatialindex-c6 libspatialindex-dev libspatialindex6\n",
            "0 upgraded, 3 newly installed, 0 to remove and 24 not upgraded.\n",
            "Need to get 319 kB of archives.\n",
            "After this operation, 1,416 kB of additional disk space will be used.\n",
            "Get:1 http://archive.ubuntu.com/ubuntu jammy/universe amd64 libspatialindex6 amd64 1.9.3-2 [247 kB]\n",
            "Get:2 http://archive.ubuntu.com/ubuntu jammy/universe amd64 libspatialindex-c6 amd64 1.9.3-2 [55.8 kB]\n",
            "Get:3 http://archive.ubuntu.com/ubuntu jammy/universe amd64 libspatialindex-dev amd64 1.9.3-2 [16.0 kB]\n",
            "Fetched 319 kB in 0s (2,871 kB/s)\n",
            "Selecting previously unselected package libspatialindex6:amd64.\n",
            "(Reading database ... 121658 files and directories currently installed.)\n",
            "Preparing to unpack .../libspatialindex6_1.9.3-2_amd64.deb ...\n",
            "Unpacking libspatialindex6:amd64 (1.9.3-2) ...\n",
            "Selecting previously unselected package libspatialindex-c6:amd64.\n",
            "Preparing to unpack .../libspatialindex-c6_1.9.3-2_amd64.deb ...\n",
            "Unpacking libspatialindex-c6:amd64 (1.9.3-2) ...\n",
            "Selecting previously unselected package libspatialindex-dev:amd64.\n",
            "Preparing to unpack .../libspatialindex-dev_1.9.3-2_amd64.deb ...\n",
            "Unpacking libspatialindex-dev:amd64 (1.9.3-2) ...\n",
            "Setting up libspatialindex6:amd64 (1.9.3-2) ...\n",
            "Setting up libspatialindex-c6:amd64 (1.9.3-2) ...\n",
            "Setting up libspatialindex-dev:amd64 (1.9.3-2) ...\n",
            "Processing triggers for libc-bin (2.35-0ubuntu3.4) ...\n",
            "/sbin/ldconfig.real: /usr/local/lib/libtbbbind.so.3 is not a symbolic link\n",
            "\n",
            "/sbin/ldconfig.real: /usr/local/lib/libtbbbind_2_5.so.3 is not a symbolic link\n",
            "\n",
            "/sbin/ldconfig.real: /usr/local/lib/libtbbmalloc.so.2 is not a symbolic link\n",
            "\n",
            "/sbin/ldconfig.real: /usr/local/lib/libtbbbind_2_0.so.3 is not a symbolic link\n",
            "\n",
            "/sbin/ldconfig.real: /usr/local/lib/libtbb.so.12 is not a symbolic link\n",
            "\n",
            "/sbin/ldconfig.real: /usr/local/lib/libtbbmalloc_proxy.so.2 is not a symbolic link\n",
            "\n",
            "Collecting rtree\n",
            "  Downloading Rtree-1.1.0-py3-none-manylinux2014_x86_64.manylinux_2_17_x86_64.whl (488 kB)\n",
            "\u001b[2K     \u001b[90m━━━━━━━━━━━━━━━━━━━━━━━━━━━━━━━━━━━━━━━━\u001b[0m \u001b[32m488.6/488.6 kB\u001b[0m \u001b[31m7.3 MB/s\u001b[0m eta \u001b[36m0:00:00\u001b[0m\n",
            "\u001b[?25hInstalling collected packages: rtree\n",
            "Successfully installed rtree-1.1.0\n"
          ]
        }
      ],
      "source": [
        "!pip install geopandas\n",
        "!apt-get install -y libspatialindex-dev\n",
        "!pip install rtree"
      ]
    },
    {
      "cell_type": "code",
      "execution_count": 3,
      "metadata": {
        "id": "1KKSeMMbLPP6"
      },
      "outputs": [],
      "source": [
        "import pandas as pd\n",
        "import geopandas as gpd\n",
        "from shapely.geometry import Point, Polygon, MultiPolygon\n",
        "from shapely import wkt\n",
        "import rtree"
      ]
    },
    {
      "cell_type": "code",
      "execution_count": 4,
      "metadata": {
        "colab": {
          "base_uri": "https://localhost:8080/"
        },
        "id": "46fxB_htJ44n",
        "outputId": "79591270-e334-4689-f3c7-b0d4c1474b67"
      },
      "outputs": [
        {
          "name": "stdout",
          "output_type": "stream",
          "text": [
            "Mounted at /content/gdrive\n"
          ]
        }
      ],
      "source": [
        "# Connect Google Colab to Google Drive\n",
        "from google.colab import drive\n",
        "drive.mount('/content/gdrive') # connects Colab to your specific Google Drive\n",
        "root_path = 'gdrive/My Drive/gis' # set root path to 'gis' folder with important files"
      ]
    },
    {
      "cell_type": "code",
      "execution_count": 7,
      "metadata": {
        "id": "pLvG12MATuUZ"
      },
      "outputs": [],
      "source": [
        "# Read in data as geodataframe and initialize coordinate reference system (CRS)\n",
        "puds = gpd.read_file(root_path+'/input/Planned_Unit_Development_(PUDs).shp', crs = {'init' :'epsg:4326'})\n",
        "aff = pd.read_csv(root_path+'/input/Affordable_Housing.csv')\n",
        "crosswalk = pd.read_csv(root_path+'/input/zoning_crosswalk.csv')"
      ]
    },
    {
      "cell_type": "code",
      "execution_count": 14,
      "metadata": {
        "colab": {
          "base_uri": "https://localhost:8080/"
        },
        "id": "KHENO1P3VJRj",
        "outputId": "a119f184-d58a-49c2-cfbc-92960681c74d"
      },
      "outputs": [
        {
          "data": {
            "text/plain": [
              "0    POLYGON ((-76.99751 38.90767, -76.99767 38.907...\n",
              "1    POLYGON ((-77.04962 38.90387, -77.04994 38.903...\n",
              "2    POLYGON ((-77.00118 38.90765, -77.00100 38.907...\n",
              "3    POLYGON ((-76.99407 38.83091, -76.99390 38.830...\n",
              "4    POLYGON ((-77.00097 38.90935, -77.00100 38.909...\n",
              "Name: geometry, dtype: geometry"
            ]
          },
          "execution_count": 14,
          "metadata": {},
          "output_type": "execute_result"
        }
      ],
      "source": [
        "#Take a look at the dataframes\n",
        "puds['geometry'].head(5)"
      ]
    },
    {
      "cell_type": "code",
      "execution_count": 20,
      "metadata": {
        "colab": {
          "base_uri": "https://localhost:8080/"
        },
        "id": "RAuoJVgTVql_",
        "outputId": "15cc157c-b3aa-423b-d36b-ffbb66a88272"
      },
      "outputs": [
        {
          "name": "stderr",
          "output_type": "stream",
          "text": [
            "/usr/local/lib/python3.10/dist-packages/pyproj/crs/crs.py:141: FutureWarning: '+init=<authority>:<code>' syntax is deprecated. '<authority>:<code>' is the preferred initialization method. When making the change, be mindful of axis order changes: https://pyproj4.github.io/pyproj/stable/gotchas.html#axis-order-changes-in-proj-6\n",
            "  in_crs_string = _prepare_from_proj_string(in_crs_string)\n"
          ]
        }
      ],
      "source": [
        "# Creat a geometry column in the affordable housing dataframe\n",
        "aff['geometry'] = aff.apply(lambda row: Point(row.X, row.Y), axis=1)\n",
        "aff = gpd.GeoDataFrame(aff, crs={'init' :'epsg:4326'}) #Depricated, use the below\n",
        "#aff = gpd.GeoDataFrame(aff, crs={'epsg:4326'})"
      ]
    },
    {
      "cell_type": "code",
      "execution_count": 21,
      "metadata": {
        "colab": {
          "base_uri": "https://localhost:8080/"
        },
        "id": "_JVus5kfWn8Q",
        "outputId": "d4727643-b0e2-48ef-d794-e570f1c1db4e"
      },
      "outputs": [
        {
          "name": "stdout",
          "output_type": "stream",
          "text": [
            "<class 'geopandas.geodataframe.GeoDataFrame'>\n",
            "RangeIndex: 865 entries, 0 to 864\n",
            "Data columns (total 23 columns):\n",
            " #   Column                         Non-Null Count  Dtype   \n",
            "---  ------                         --------------  -----   \n",
            " 0   X                              865 non-null    float64 \n",
            " 1   Y                              865 non-null    float64 \n",
            " 2   OBJECTID                       865 non-null    int64   \n",
            " 3   MAR_WARD                       865 non-null    object  \n",
            " 4   ADDRESS                        865 non-null    object  \n",
            " 5   PROJECT_NAME                   865 non-null    object  \n",
            " 6   STATUS_PUBLIC                  865 non-null    object  \n",
            " 7   AGENCY_CALCULATED              862 non-null    object  \n",
            " 8   TOTAL_AFFORDABLE_UNITS         865 non-null    int64   \n",
            " 9   LATITUDE                       865 non-null    float64 \n",
            " 10  LONGITUDE                      865 non-null    float64 \n",
            " 11  AFFORDABLE_UNITS_AT_0_30_AMI   865 non-null    int64   \n",
            " 12  AFFORDABLE_UNITS_AT_31_50_AMI  865 non-null    int64   \n",
            " 13  AFFORDABLE_UNITS_AT_51_60_AMI  865 non-null    int64   \n",
            " 14  AFFORDABLE_UNITS_AT_61_80_AMI  865 non-null    int64   \n",
            " 15  AFFORDABLE_UNITS_AT_81_AMI     865 non-null    int64   \n",
            " 16  CASE_ID                        148 non-null    object  \n",
            " 17  MAR_ID                         865 non-null    int64   \n",
            " 18  XCOORD                         865 non-null    float64 \n",
            " 19  YCOORD                         865 non-null    float64 \n",
            " 20  FULLADDRESS                    865 non-null    object  \n",
            " 21  GIS_LAST_MOD_DTTM              865 non-null    object  \n",
            " 22  geometry                       865 non-null    geometry\n",
            "dtypes: float64(6), geometry(1), int64(8), object(8)\n",
            "memory usage: 155.6+ KB\n"
          ]
        }
      ],
      "source": [
        "aff.info()"
      ]
    },
    {
      "cell_type": "code",
      "execution_count": 23,
      "metadata": {
        "colab": {
          "base_uri": "https://localhost:8080/"
        },
        "id": "UbfsoBDgWsKs",
        "outputId": "00ee56d5-55f8-4471-ed46-e1735a20affd"
      },
      "outputs": [
        {
          "name": "stderr",
          "output_type": "stream",
          "text": [
            "/usr/local/lib/python3.10/dist-packages/IPython/core/interactiveshell.py:3473: FutureWarning: The `op` parameter is deprecated and will be removed in a future release. Please use the `predicate` parameter instead.\n",
            "  if (await self.run_code(code, result,  async_=asy)):\n",
            "<ipython-input-23-e010d5be1a63>:2: UserWarning: CRS mismatch between the CRS of left geometries and the CRS of right geometries.\n",
            "Use `to_crs()` to reproject one of the input geometries to match the CRS of the other.\n",
            "\n",
            "Left CRS: EPSG:4326\n",
            "Right CRS: +init=epsg:4326 +type=crs\n",
            "\n",
            "  puds_aff = gpd.sjoin(puds, aff, op='intersects', how='left')\n"
          ]
        }
      ],
      "source": [
        "# Use geospatial .sjoin() to identify which PUDs include affordable housing projects\n",
        "puds_aff = gpd.sjoin(puds, aff, op='intersects', how='left')"
      ]
    },
    {
      "cell_type": "code",
      "execution_count": 24,
      "metadata": {
        "id": "V8ONDx-fXJz_"
      },
      "outputs": [],
      "source": [
        "# Merge crosswalk and puds_aff dataframe to create plain english categories.\n",
        "puds_info = puds_aff.merge(crosswalk[['Zone_Cat']], how='left', left_on='PUD_ZONING', right_on=crosswalk['Zone'])"
      ]
    },
    {
      "cell_type": "code",
      "execution_count": 25,
      "metadata": {
        "colab": {
          "base_uri": "https://localhost:8080/",
          "height": 676
        },
        "id": "ON1gTLf-Xmu_",
        "outputId": "c0a7b984-d8d1-47c5-a96b-890af27e2548"
      },
      "outputs": [
        {
          "data": {
            "image/png": "[encoded data removed]",
            "text/plain": [
              "<Figure size 1600x800 with 1 Axes>"
            ]
          },
          "metadata": {},
          "output_type": "display_data"
        }
      ],
      "source": [
        "#PUDS by Zoning Category map\n",
        "puds_info.plot(column='Zone_Cat', legend=True, figsize=(16,8));"
      ]
    },
    {
      "cell_type": "code",
      "execution_count": 34,
      "metadata": {
        "colab": {
          "base_uri": "https://localhost:8080/",
          "height": 553
        },
        "id": "W7i2viqeZtjM",
        "outputId": "f2bcfc0f-bc2f-4b45-d8ba-b059b57692f5"
      },
      "outputs": [
        {
          "data": {
            "text/html": [
              "\n",
              "  <div id=\"df-fd4e49e6-3773-4b44-b0be-b49a7b57045f\" class=\"colab-df-container\">\n",
              "    <div>\n",
              "<style scoped>\n",
              "    .dataframe tbody tr th:only-of-type {\n",
              "        vertical-align: middle;\n",
              "    }\n",
              "\n",
              "    .dataframe tbody tr th {\n",
              "        vertical-align: top;\n",
              "    }\n",
              "\n",
              "    .dataframe thead th {\n",
              "        text-align: right;\n",
              "    }\n",
              "</style>\n",
              "<table border=\"1\" class=\"dataframe\">\n",
              "  <thead>\n",
              "    <tr style=\"text-align: right;\">\n",
              "      <th></th>\n",
              "      <th>OBJECTID</th>\n",
              "      <th>PUD_NAME</th>\n",
              "      <th>PUD_WEB_UR</th>\n",
              "      <th>PUD_CHANGE</th>\n",
              "      <th>PUD_ZONING</th>\n",
              "      <th>PUD_STATUS</th>\n",
              "      <th>PUD_CASE_N</th>\n",
              "      <th>WARD</th>\n",
              "      <th>GIS_ID</th>\n",
              "      <th>PUD_FAR</th>\n",
              "      <th>UNITS_TOTA</th>\n",
              "      <th>UNITS_AFFO</th>\n",
              "      <th>PUD_HEIGHT</th>\n",
              "      <th>PARKING</th>\n",
              "      <th>DESCRIPTIO</th>\n",
              "      <th>SHAPEAREA</th>\n",
              "      <th>SHAPELEN</th>\n",
              "      <th>geometry</th>\n",
              "    </tr>\n",
              "  </thead>\n",
              "  <tbody>\n",
              "    <tr>\n",
              "      <th>0</th>\n",
              "      <td>486563</td>\n",
              "      <td>Gallaudet University and JBG/6th Street Associ...</td>\n",
              "      <td>https://app.dcoz.dc.gov/Home/ViewCase?case_id=...</td>\n",
              "      <td>2nd-Stage PUD; Consolidated PUD &amp; Related Map ...</td>\n",
              "      <td>C-3-A, C-3-C</td>\n",
              "      <td>Final</td>\n",
              "      <td>15-24B</td>\n",
              "      <td>Ward 5</td>\n",
              "      <td>None</td>\n",
              "      <td>6.96</td>\n",
              "      <td>597</td>\n",
              "      <td>63</td>\n",
              "      <td>120</td>\n",
              "      <td>306</td>\n",
              "      <td>Multi-parcel, multi-building project including...</td>\n",
              "      <td>0</td>\n",
              "      <td>0</td>\n",
              "      <td>POLYGON ((-76.99751 38.90767, -76.99767 38.907...</td>\n",
              "    </tr>\n",
              "    <tr>\n",
              "      <th>1</th>\n",
              "      <td>486564</td>\n",
              "      <td>Millennium Partners</td>\n",
              "      <td>https://app.dcoz.dc.gov/Home/ViewCase?case_id=...</td>\n",
              "      <td>Official Digital Zoning Map of July 1, 2010</td>\n",
              "      <td>CR</td>\n",
              "      <td>Final</td>\n",
              "      <td>98-1</td>\n",
              "      <td>Ward 2</td>\n",
              "      <td>None</td>\n",
              "      <td>6.81</td>\n",
              "      <td>160-230</td>\n",
              "      <td>N/A</td>\n",
              "      <td>110</td>\n",
              "      <td>700-770 spaces</td>\n",
              "      <td>Mixed-use development with retail, hotel, heal...</td>\n",
              "      <td>0</td>\n",
              "      <td>0</td>\n",
              "      <td>POLYGON ((-77.04962 38.90387, -77.04994 38.903...</td>\n",
              "    </tr>\n",
              "    <tr>\n",
              "      <th>2</th>\n",
              "      <td>486565</td>\n",
              "      <td>Gateway Market Center Inc.</td>\n",
              "      <td>https://app.dcoz.dc.gov/Home/ViewCase?case_id=...</td>\n",
              "      <td>PUD Modification 1/27/14</td>\n",
              "      <td>C-3-C</td>\n",
              "      <td>Final</td>\n",
              "      <td>06-40C</td>\n",
              "      <td>Ward 5</td>\n",
              "      <td>None</td>\n",
              "      <td>5.0</td>\n",
              "      <td>170-216</td>\n",
              "      <td>20% of units</td>\n",
              "      <td>80</td>\n",
              "      <td>215 spaces</td>\n",
              "      <td>Mixed-use retail residential building</td>\n",
              "      <td>0</td>\n",
              "      <td>0</td>\n",
              "      <td>POLYGON ((-77.00118 38.90765, -77.00100 38.907...</td>\n",
              "    </tr>\n",
              "    <tr>\n",
              "      <th>3</th>\n",
              "      <td>486566</td>\n",
              "      <td>Hazle II LLC</td>\n",
              "      <td>https://app.dcoz.dc.gov/Home/ViewCase?case_id=...</td>\n",
              "      <td>Case # 10-29</td>\n",
              "      <td>R-5-B</td>\n",
              "      <td>Withdrawn</td>\n",
              "      <td>10-29</td>\n",
              "      <td>Ward 8</td>\n",
              "      <td>None</td>\n",
              "      <td>2.67</td>\n",
              "      <td>35</td>\n",
              "      <td>35</td>\n",
              "      <td>50</td>\n",
              "      <td>14 spaces</td>\n",
              "      <td>DCHA apartment building</td>\n",
              "      <td>0</td>\n",
              "      <td>0</td>\n",
              "      <td>POLYGON ((-76.99407 38.83091, -76.99390 38.830...</td>\n",
              "    </tr>\n",
              "    <tr>\n",
              "      <th>4</th>\n",
              "      <td>486567</td>\n",
              "      <td>1 Neal Place LLC</td>\n",
              "      <td>https://app.dcoz.dc.gov/Home/ViewCase?case_id=...</td>\n",
              "      <td>Modification of Consequence to Second-Stage Pl...</td>\n",
              "      <td>C-3-C</td>\n",
              "      <td>Final</td>\n",
              "      <td>15-27F</td>\n",
              "      <td>Ward 5</td>\n",
              "      <td>None</td>\n",
              "      <td>7.1</td>\n",
              "      <td>1103</td>\n",
              "      <td>124</td>\n",
              "      <td>130</td>\n",
              "      <td>682 spaces</td>\n",
              "      <td>Multi-building residential, retail, office, an...</td>\n",
              "      <td>0</td>\n",
              "      <td>0</td>\n",
              "      <td>POLYGON ((-77.00097 38.90935, -77.00100 38.909...</td>\n",
              "    </tr>\n",
              "  </tbody>\n",
              "</table>\n",
              "</div>\n",
              "    <div class=\"colab-df-buttons\">\n",
              "\n",
              "  <div class=\"colab-df-container\">\n",
              "    <button class=\"colab-df-convert\" onclick=\"convertToInteractive('df-fd4e49e6-3773-4b44-b0be-b49a7b57045f')\"\n",
              "            title=\"Convert this dataframe to an interactive table.\"\n",
              "            style=\"display:none;\">\n",
              "\n",
              "  <svg xmlns=\"http://www.w3.org/2000/svg\" height=\"24px\" viewBox=\"0 -960 960 960\">\n",
              "    <path d=\"M120-120v-720h720v720H120Zm60-500h600v-160H180v160Zm220 220h160v-160H400v160Zm0 220h160v-160H400v160ZM180-400h160v-160H180v160Zm440 0h160v-160H620v160ZM180-180h160v-160H180v160Zm440 0h160v-160H620v160Z\"/>\n",
              "  </svg>\n",
              "    </button>\n",
              "\n",
              "  <style>\n",
              "    .colab-df-container {\n",
              "      display:flex;\n",
              "      gap: 12px;\n",
              "    }\n",
              "\n",
              "    .colab-df-convert {\n",
              "      background-color: #E8F0FE;\n",
              "      border: none;\n",
              "      border-radius: 50%;\n",
              "      cursor: pointer;\n",
              "      display: none;\n",
              "      fill: #1967D2;\n",
              "      height: 32px;\n",
              "      padding: 0 0 0 0;\n",
              "      width: 32px;\n",
              "    }\n",
              "\n",
              "    .colab-df-convert:hover {\n",
              "      background-color: #E2EBFA;\n",
              "      box-shadow: 0px 1px 2px rgba(60, 64, 67, 0.3), 0px 1px 3px 1px rgba(60, 64, 67, 0.15);\n",
              "      fill: #174EA6;\n",
              "    }\n",
              "\n",
              "    .colab-df-buttons div {\n",
              "      margin-bottom: 4px;\n",
              "    }\n",
              "\n",
              "    [theme=dark] .colab-df-convert {\n",
              "      background-color: #3B4455;\n",
              "      fill: #D2E3FC;\n",
              "    }\n",
              "\n",
              "    [theme=dark] .colab-df-convert:hover {\n",
              "      background-color: #434B5C;\n",
              "      box-shadow: 0px 1px 3px 1px rgba(0, 0, 0, 0.15);\n",
              "      filter: drop-shadow(0px 1px 2px rgba(0, 0, 0, 0.3));\n",
              "      fill: #FFFFFF;\n",
              "    }\n",
              "  </style>\n",
              "\n",
              "    <script>\n",
              "      const buttonEl =\n",
              "        document.querySelector('#df-fd4e49e6-3773-4b44-b0be-b49a7b57045f button.colab-df-convert');\n",
              "      buttonEl.style.display =\n",
              "        google.colab.kernel.accessAllowed ? 'block' : 'none';\n",
              "\n",
              "      async function convertToInteractive(key) {\n",
              "        const element = document.querySelector('#df-fd4e49e6-3773-4b44-b0be-b49a7b57045f');\n",
              "        const dataTable =\n",
              "          await google.colab.kernel.invokeFunction('convertToInteractive',\n",
              "                                                    [key], {});\n",
              "        if (!dataTable) return;\n",
              "\n",
              "        const docLinkHtml = 'Like what you see? Visit the ' +\n",
              "          '<a target=\"_blank\" href=https://colab.research.google.com/notebooks/data_table.ipynb>data table notebook</a>'\n",
              "          + ' to learn more about interactive tables.';\n",
              "        element.innerHTML = '';\n",
              "        dataTable['output_type'] = 'display_data';\n",
              "        await google.colab.output.renderOutput(dataTable, element);\n",
              "        const docLink = document.createElement('div');\n",
              "        docLink.innerHTML = docLinkHtml;\n",
              "        element.appendChild(docLink);\n",
              "      }\n",
              "    </script>\n",
              "  </div>\n",
              "\n",
              "\n",
              "<div id=\"df-375e6024-d605-4d48-9ba2-0eaaf2cb6535\">\n",
              "  <button class=\"colab-df-quickchart\" onclick=\"quickchart('df-375e6024-d605-4d48-9ba2-0eaaf2cb6535')\"\n",
              "            title=\"Suggest charts\"\n",
              "            style=\"display:none;\">\n",
              "\n",
              "<svg xmlns=\"http://www.w3.org/2000/svg\" height=\"24px\"viewBox=\"0 0 24 24\"\n",
              "     width=\"24px\">\n",
              "    <g>\n",
              "        <path d=\"M19 3H5c-1.1 0-2 .9-2 2v14c0 1.1.9 2 2 2h14c1.1 0 2-.9 2-2V5c0-1.1-.9-2-2-2zM9 17H7v-7h2v7zm4 0h-2V7h2v10zm4 0h-2v-4h2v4z\"/>\n",
              "    </g>\n",
              "</svg>\n",
              "  </button>\n",
              "\n",
              "<style>\n",
              "  .colab-df-quickchart {\n",
              "      --bg-color: #E8F0FE;\n",
              "      --fill-color: #1967D2;\n",
              "      --hover-bg-color: #E2EBFA;\n",
              "      --hover-fill-color: #174EA6;\n",
              "      --disabled-fill-color: #AAA;\n",
              "      --disabled-bg-color: #DDD;\n",
              "  }\n",
              "\n",
              "  [theme=dark] .colab-df-quickchart {\n",
              "      --bg-color: #3B4455;\n",
              "      --fill-color: #D2E3FC;\n",
              "      --hover-bg-color: #434B5C;\n",
              "      --hover-fill-color: #FFFFFF;\n",
              "      --disabled-bg-color: #3B4455;\n",
              "      --disabled-fill-color: #666;\n",
              "  }\n",
              "\n",
              "  .colab-df-quickchart {\n",
              "    background-color: var(--bg-color);\n",
              "    border: none;\n",
              "    border-radius: 50%;\n",
              "    cursor: pointer;\n",
              "    display: none;\n",
              "    fill: var(--fill-color);\n",
              "    height: 32px;\n",
              "    padding: 0;\n",
              "    width: 32px;\n",
              "  }\n",
              "\n",
              "  .colab-df-quickchart:hover {\n",
              "    background-color: var(--hover-bg-color);\n",
              "    box-shadow: 0 1px 2px rgba(60, 64, 67, 0.3), 0 1px 3px 1px rgba(60, 64, 67, 0.15);\n",
              "    fill: var(--button-hover-fill-color);\n",
              "  }\n",
              "\n",
              "  .colab-df-quickchart-complete:disabled,\n",
              "  .colab-df-quickchart-complete:disabled:hover {\n",
              "    background-color: var(--disabled-bg-color);\n",
              "    fill: var(--disabled-fill-color);\n",
              "    box-shadow: none;\n",
              "  }\n",
              "\n",
              "  .colab-df-spinner {\n",
              "    border: 2px solid var(--fill-color);\n",
              "    border-color: transparent;\n",
              "    border-bottom-color: var(--fill-color);\n",
              "    animation:\n",
              "      spin 1s steps(1) infinite;\n",
              "  }\n",
              "\n",
              "  @keyframes spin {\n",
              "    0% {\n",
              "      border-color: transparent;\n",
              "      border-bottom-color: var(--fill-color);\n",
              "      border-left-color: var(--fill-color);\n",
              "    }\n",
              "    20% {\n",
              "      border-color: transparent;\n",
              "      border-left-color: var(--fill-color);\n",
              "      border-top-color: var(--fill-color);\n",
              "    }\n",
              "    30% {\n",
              "      border-color: transparent;\n",
              "      border-left-color: var(--fill-color);\n",
              "      border-top-color: var(--fill-color);\n",
              "      border-right-color: var(--fill-color);\n",
              "    }\n",
              "    40% {\n",
              "      border-color: transparent;\n",
              "      border-right-color: var(--fill-color);\n",
              "      border-top-color: var(--fill-color);\n",
              "    }\n",
              "    60% {\n",
              "      border-color: transparent;\n",
              "      border-right-color: var(--fill-color);\n",
              "    }\n",
              "    80% {\n",
              "      border-color: transparent;\n",
              "      border-right-color: var(--fill-color);\n",
              "      border-bottom-color: var(--fill-color);\n",
              "    }\n",
              "    90% {\n",
              "      border-color: transparent;\n",
              "      border-bottom-color: var(--fill-color);\n",
              "    }\n",
              "  }\n",
              "</style>\n",
              "\n",
              "  <script>\n",
              "    async function quickchart(key) {\n",
              "      const quickchartButtonEl =\n",
              "        document.querySelector('#' + key + ' button');\n",
              "      quickchartButtonEl.disabled = true;  // To prevent multiple clicks.\n",
              "      quickchartButtonEl.classList.add('colab-df-spinner');\n",
              "      try {\n",
              "        const charts = await google.colab.kernel.invokeFunction(\n",
              "            'suggestCharts', [key], {});\n",
              "      } catch (error) {\n",
              "        console.error('Error during call to suggestCharts:', error);\n",
              "      }\n",
              "      quickchartButtonEl.classList.remove('colab-df-spinner');\n",
              "      quickchartButtonEl.classList.add('colab-df-quickchart-complete');\n",
              "    }\n",
              "    (() => {\n",
              "      let quickchartButtonEl =\n",
              "        document.querySelector('#df-375e6024-d605-4d48-9ba2-0eaaf2cb6535 button');\n",
              "      quickchartButtonEl.style.display =\n",
              "        google.colab.kernel.accessAllowed ? 'block' : 'none';\n",
              "    })();\n",
              "  </script>\n",
              "</div>\n",
              "    </div>\n",
              "  </div>\n"
            ],
            "text/plain": [
              "   OBJECTID                                           PUD_NAME  \\\n",
              "0    486563  Gallaudet University and JBG/6th Street Associ...   \n",
              "1    486564                                Millennium Partners   \n",
              "2    486565                         Gateway Market Center Inc.   \n",
              "3    486566                                       Hazle II LLC   \n",
              "4    486567                                   1 Neal Place LLC   \n",
              "\n",
              "                                          PUD_WEB_UR  \\\n",
              "0  https://app.dcoz.dc.gov/Home/ViewCase?case_id=...   \n",
              "1  https://app.dcoz.dc.gov/Home/ViewCase?case_id=...   \n",
              "2  https://app.dcoz.dc.gov/Home/ViewCase?case_id=...   \n",
              "3  https://app.dcoz.dc.gov/Home/ViewCase?case_id=...   \n",
              "4  https://app.dcoz.dc.gov/Home/ViewCase?case_id=...   \n",
              "\n",
              "                                          PUD_CHANGE    PUD_ZONING PUD_STATUS  \\\n",
              "0  2nd-Stage PUD; Consolidated PUD & Related Map ...  C-3-A, C-3-C      Final   \n",
              "1        Official Digital Zoning Map of July 1, 2010            CR      Final   \n",
              "2                           PUD Modification 1/27/14         C-3-C      Final   \n",
              "3                                       Case # 10-29         R-5-B  Withdrawn   \n",
              "4  Modification of Consequence to Second-Stage Pl...         C-3-C      Final   \n",
              "\n",
              "  PUD_CASE_N    WARD GIS_ID PUD_FAR UNITS_TOTA    UNITS_AFFO PUD_HEIGHT  \\\n",
              "0     15-24B  Ward 5   None    6.96        597            63        120   \n",
              "1       98-1  Ward 2   None    6.81    160-230           N/A        110   \n",
              "2     06-40C  Ward 5   None     5.0    170-216  20% of units         80   \n",
              "3      10-29  Ward 8   None    2.67         35            35         50   \n",
              "4     15-27F  Ward 5   None     7.1       1103           124        130   \n",
              "\n",
              "          PARKING                                         DESCRIPTIO  \\\n",
              "0             306  Multi-parcel, multi-building project including...   \n",
              "1  700-770 spaces  Mixed-use development with retail, hotel, heal...   \n",
              "2      215 spaces              Mixed-use retail residential building   \n",
              "3       14 spaces                            DCHA apartment building   \n",
              "4      682 spaces  Multi-building residential, retail, office, an...   \n",
              "\n",
              "   SHAPEAREA  SHAPELEN                                           geometry  \n",
              "0          0         0  POLYGON ((-76.99751 38.90767, -76.99767 38.907...  \n",
              "1          0         0  POLYGON ((-77.04962 38.90387, -77.04994 38.903...  \n",
              "2          0         0  POLYGON ((-77.00118 38.90765, -77.00100 38.907...  \n",
              "3          0         0  POLYGON ((-76.99407 38.83091, -76.99390 38.830...  \n",
              "4          0         0  POLYGON ((-77.00097 38.90935, -77.00100 38.909...  "
            ]
          },
          "execution_count": 34,
          "metadata": {},
          "output_type": "execute_result"
        }
      ],
      "source": [
        "puds.head(5)"
      ]
    },
    {
      "cell_type": "code",
      "execution_count": 44,
      "metadata": {
        "colab": {
          "base_uri": "https://localhost:8080/",
          "height": 728
        },
        "id": "xktMOPB-X2r6",
        "outputId": "bb8a461b-8fa3-43d5-f7ac-8127abc2bf80"
      },
      "outputs": [
        {
          "name": "stderr",
          "output_type": "stream",
          "text": [
            "/usr/local/lib/python3.10/dist-packages/geopandas/plotting.py:658: UserWarning: Only specify one of 'column' or 'color'. Using 'color'.\n",
            "  warnings.warn(\n"
          ]
        },
        {
          "data": {
            "text/plain": [
              "<Axes: >"
            ]
          },
          "execution_count": 44,
          "metadata": {},
          "output_type": "execute_result"
        },
        {
          "data": {
            "image/png": "[encoded data removed]",
            "text/plain": [
              "<Figure size 1600x800 with 1 Axes>"
            ]
          },
          "metadata": {},
          "output_type": "display_data"
        }
      ],
      "source": [
        "# PUDs that provide affordable housing\n",
        "puds_info[puds_info['TOTAL_AFFORDABLE_UNITS']>0].plot(column='TOTAL_AFFORDABLE_UNITS',\n",
        "                                                      color='grey',\n",
        "                                                      figsize=(16,8))"
      ]
    }
  ],
  "metadata": {
    "colab": {
      "provenance": []
    },
    "kernelspec": {
      "display_name": "Python 3",
      "name": "python3"
    },
    "language_info": {
      "name": "python"
    }
  },
  "nbformat": 4,
  "nbformat_minor": 0
}
