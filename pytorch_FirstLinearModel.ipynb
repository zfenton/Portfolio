{
 "cells": [
  {
   "cell_type": "markdown",
   "metadata": {},
   "source": [
    "## Pytorch Linear Regression\n",
    "- Data was generated using Spotify Offical API and is available:\n",
    "https://www.kaggle.com/datasets/yasserh/song-popularity-dataset/"
   ]
  },
  {
   "cell_type": "code",
   "execution_count": 7,
   "metadata": {},
   "outputs": [],
   "source": [
    "\n",
    "import pandas as pd\n",
    "import numpy as np\n",
    "import matplotlib.pyplot as plt\n",
    "import seaborn as sns\n",
    "import os\n",
    "import torch\n",
    "import sklearn\n",
    "from sklearn.model_selection import train_test_split\n",
    "from torch import nn"
   ]
  },
  {
   "cell_type": "code",
   "execution_count": 2,
   "metadata": {},
   "outputs": [],
   "source": [
    "songPopularity = pd.read_csv(\"data/song_data.csv\")"
   ]
  },
  {
   "cell_type": "code",
   "execution_count": null,
   "metadata": {},
   "outputs": [],
   "source": [
    "songPopularity.head(10)"
   ]
  },
  {
   "cell_type": "code",
   "execution_count": 3,
   "metadata": {},
   "outputs": [],
   "source": [
    "# Prepare features\n",
    "features = ['song_duration_ms', \n",
    "            'acousticness', 'danceability', \n",
    "            'energy', 'instrumentalness', \n",
    "            'key', 'liveness', 'loudness', \n",
    "            'audio_mode', 'speechiness', \n",
    "            'tempo', 'time_signature', 'audio_valence']\n",
    "\n",
    "target = 'song_popularity'\n",
    "\n",
    "songPopularityFeatures = songPopularity[features]\n",
    "songPopularityTarget = songPopularity[target]"
   ]
  },
  {
   "cell_type": "code",
   "execution_count": 4,
   "metadata": {},
   "outputs": [],
   "source": [
    "# Utilize train_test_split from sklearn to split the data into train and test sets\n",
    "X_train, X_test, y_train, y_test = train_test_split(songPopularityFeatures, songPopularityTarget, test_size = 0.2)"
   ]
  },
  {
   "cell_type": "code",
   "execution_count": 5,
   "metadata": {},
   "outputs": [],
   "source": [
    "# Convert DataFrames into PyTorch tensors\n",
    "def dataframe_to_tensor(df):\n",
    "    return torch.tensor(df.values, dtype=torch.float32)\n",
    "\n",
    "# Transform DataFrames into PyTorch tensors using the function\n",
    "X_train = dataframe_to_tensor(X_train)\n",
    "X_test = dataframe_to_tensor(X_test)\n",
    "y_train = dataframe_to_tensor(y_train)\n",
    "y_test = dataframe_to_tensor(y_test)"
   ]
  },
  {
   "cell_type": "code",
   "execution_count": null,
   "metadata": {},
   "outputs": [],
   "source": [
    "# Visualize X_train\n",
    "X_train"
   ]
  },
  {
   "cell_type": "code",
   "execution_count": 14,
   "metadata": {},
   "outputs": [],
   "source": [
    "# Create first torch.nn.LinearRegression model\n",
    "\n",
    "class LinearRegressionModel(nn.Module):\n",
    "    '''\n",
    "    Torch Module class.\n",
    "    Initializes weight randomly and gets trained via train method.\n",
    "    '''\n",
    "    def __init__(self, optimizer):\n",
    "        super().__init__()\n",
    "        self.optimizer = optimizer\n",
    "\n",
    "        # Initialize Weights and Bias\n",
    "        self.weights = nn.Parameter(\n",
    "            torch.randn(1, 13, dtype=torch.float),\n",
    "            requires_grad=True)\n",
    "\n",
    "        self.bias = nn.Parameter(\n",
    "            torch.randn(1, 13, dtype=torch.float),\n",
    "            requires_grad=True\n",
    "            )\n",
    "        \n",
    "    # Goal is to optimize the weights using the optimizer (backpropagation)\n",
    "    def forward(self, x: torch.Tensor) -> torch.Tensor:\n",
    "            return (self.weights * x + self.bias).sum(axis=1)\n",
    "        \n",
    "    # Create trainModel Method to perform backpropogation\n",
    "    # and weight adjustment for optimization\n",
    "    def trainModel(\n",
    "            self,\n",
    "            epochs: int,\n",
    "            X_train: torch.Tensor,\n",
    "            X_test: torch.Tensor,\n",
    "            y_train: torch.Tensor,\n",
    "            y_test: torch.Tensor,\n",
    "            lr: float\n",
    "            ):\n",
    "        '''\n",
    "        Trains linear model using pytorch.\n",
    "        Evaluates the model against test set for every epoch.\n",
    "        '''\n",
    "        torch.manual_seed(42)\n",
    "        # Create empty loss lists to track values\n",
    "        self.train_loss_values = []\n",
    "        self.test_loss_values = []\n",
    "\n",
    "        loss_fn = nn.L1Loss()\n",
    "\n",
    "        if self.optimizer == 'SGD':\n",
    "            optimizer = torch.optim.SGD(\n",
    "                params=self.parameters(),\n",
    "                lr=lr\n",
    "                )\n",
    "        elif self.optimizer == 'Adam':\n",
    "            optimizer = torch.optim.Adam(\n",
    "                params=self.parameters(),\n",
    "                lr=lr\n",
    "                )\n",
    "\n",
    "        for epoch in range(epochs):\n",
    "            self.train()\n",
    "            y_pred = self(X_train)\n",
    "            loss = loss_fn(y_pred, y_train)\n",
    "            optimizer.zero_grad()\n",
    "            loss.backward()\n",
    "            optimizer.step()\n",
    "\n",
    "            # Set the model in evaluation mode\n",
    "            self.eval()\n",
    "            with torch.inference_mode():\n",
    "                self.evaluate(X_test, y_test, epoch, loss_fn, loss)\n",
    "                \n",
    "    def evaluate(self, X_test, y_test, epoch_nb, loss_fn, train_loss):\n",
    "        '''\n",
    "        Evaluates current epoch performance on the test set.\n",
    "        '''\n",
    "        test_pred = self(X_test)\n",
    "        test_loss = loss_fn(test_pred, y_test.type(torch.float))\n",
    "        if epoch_nb % 10 == 0:\n",
    "            self.train_loss_values.append(train_loss.detach().numpy())\n",
    "            self.test_loss_values.append(test_loss.detach().numpy())\n",
    "            print(f\"Epoch: {epoch_nb} - MAE Train Loss: {train_loss} - MAE Test Loss: {test_loss} \")\n",
    "    \n",
    "    def plot_loss(self):\n",
    "        '''\n",
    "        Plots train and test loss.\n",
    "        '''\n",
    "        plt.plot(self.train_loss_values, label='Train Loss')\n",
    "        plt.plot(self.test_loss_values, label='Test Loss')\n",
    "        plt.xlabel('Epoch')\n",
    "        plt.ylabel('Loss')\n",
    "        plt.legend()\n",
    "        plt.show()"
   ]
  },
  {
   "cell_type": "code",
   "execution_count": 17,
   "metadata": {},
   "outputs": [
    {
     "name": "stdout",
     "output_type": "stream",
     "text": [
      "Epoch: 0 - MAE Train Loss: 73563.203125 - MAE Test Loss: 72988.5546875 \n",
      "Epoch: 10 - MAE Train Loss: 71377.4453125 - MAE Test Loss: 70813.3984375 \n",
      "Epoch: 20 - MAE Train Loss: 69191.703125 - MAE Test Loss: 68638.2578125 \n",
      "Epoch: 30 - MAE Train Loss: 67005.9609375 - MAE Test Loss: 66463.1015625 \n",
      "Epoch: 40 - MAE Train Loss: 64820.2109375 - MAE Test Loss: 64287.95703125 \n",
      "Epoch: 50 - MAE Train Loss: 62634.46484375 - MAE Test Loss: 62112.81640625 \n",
      "Epoch: 60 - MAE Train Loss: 60448.72265625 - MAE Test Loss: 59937.66796875 \n",
      "Epoch: 70 - MAE Train Loss: 58262.97265625 - MAE Test Loss: 57762.5234375 \n",
      "Epoch: 80 - MAE Train Loss: 56077.23046875 - MAE Test Loss: 55587.3671875 \n",
      "Epoch: 90 - MAE Train Loss: 53891.47265625 - MAE Test Loss: 53412.203125 \n",
      "Epoch: 100 - MAE Train Loss: 51705.6953125 - MAE Test Loss: 51237.02734375 \n",
      "Epoch: 110 - MAE Train Loss: 49519.91015625 - MAE Test Loss: 49061.84375 \n",
      "Epoch: 120 - MAE Train Loss: 47334.1328125 - MAE Test Loss: 46886.66796875 \n",
      "Epoch: 130 - MAE Train Loss: 45148.35546875 - MAE Test Loss: 44711.48828125 \n",
      "Epoch: 140 - MAE Train Loss: 42962.578125 - MAE Test Loss: 42536.3046875 \n",
      "Epoch: 150 - MAE Train Loss: 40776.8046875 - MAE Test Loss: 40361.1328125 \n",
      "Epoch: 160 - MAE Train Loss: 38591.0234375 - MAE Test Loss: 38185.94921875 \n",
      "Epoch: 170 - MAE Train Loss: 36405.24609375 - MAE Test Loss: 36010.765625 \n",
      "Epoch: 180 - MAE Train Loss: 34219.46875 - MAE Test Loss: 33835.58984375 \n",
      "Epoch: 190 - MAE Train Loss: 32033.693359375 - MAE Test Loss: 31660.41015625 \n",
      "Epoch: 200 - MAE Train Loss: 29847.91015625 - MAE Test Loss: 29485.228515625 \n",
      "Epoch: 210 - MAE Train Loss: 27662.130859375 - MAE Test Loss: 27310.05078125 \n",
      "Epoch: 220 - MAE Train Loss: 25476.353515625 - MAE Test Loss: 25134.87109375 \n",
      "Epoch: 230 - MAE Train Loss: 23290.576171875 - MAE Test Loss: 22959.69140625 \n",
      "Epoch: 240 - MAE Train Loss: 21104.80078125 - MAE Test Loss: 20784.509765625 \n",
      "Epoch: 250 - MAE Train Loss: 18919.021484375 - MAE Test Loss: 18609.330078125 \n",
      "Epoch: 260 - MAE Train Loss: 16733.2421875 - MAE Test Loss: 16434.150390625 \n",
      "Epoch: 270 - MAE Train Loss: 14547.4658203125 - MAE Test Loss: 14258.970703125 \n",
      "Epoch: 280 - MAE Train Loss: 12361.6904296875 - MAE Test Loss: 12083.798828125 \n",
      "Epoch: 290 - MAE Train Loss: 10175.921875 - MAE Test Loss: 9908.626953125 \n",
      "Epoch: 300 - MAE Train Loss: 7990.15087890625 - MAE Test Loss: 7733.45458984375 \n",
      "Epoch: 310 - MAE Train Loss: 5804.38037109375 - MAE Test Loss: 5558.283203125 \n",
      "Epoch: 320 - MAE Train Loss: 3618.610595703125 - MAE Test Loss: 3383.111328125 \n",
      "Epoch: 330 - MAE Train Loss: 1432.841064453125 - MAE Test Loss: 1207.9405517578125 \n",
      "Epoch: 340 - MAE Train Loss: 507.672607421875 - MAE Test Loss: 573.5533447265625 \n",
      "Epoch: 350 - MAE Train Loss: 189.98626708984375 - MAE Test Loss: 71.51179504394531 \n",
      "Epoch: 360 - MAE Train Loss: 90.14016723632812 - MAE Test Loss: 19.737001419067383 \n",
      "Epoch: 370 - MAE Train Loss: 87.42227935791016 - MAE Test Loss: 99.98347473144531 \n",
      "Epoch: 380 - MAE Train Loss: 33.3015251159668 - MAE Test Loss: 53.292152404785156 \n",
      "Epoch: 390 - MAE Train Loss: 36.00132369995117 - MAE Test Loss: 26.71728515625 \n",
      "Epoch: 400 - MAE Train Loss: 22.13258934020996 - MAE Test Loss: 25.10106658935547 \n",
      "Epoch: 410 - MAE Train Loss: 19.585323333740234 - MAE Test Loss: 21.005517959594727 \n",
      "Epoch: 420 - MAE Train Loss: 19.420347213745117 - MAE Test Loss: 20.070255279541016 \n",
      "Epoch: 430 - MAE Train Loss: 19.365842819213867 - MAE Test Loss: 19.5417423248291 \n",
      "Epoch: 440 - MAE Train Loss: 19.354646682739258 - MAE Test Loss: 19.46769142150879 \n",
      "Epoch: 450 - MAE Train Loss: 19.335845947265625 - MAE Test Loss: 19.35976219177246 \n",
      "Epoch: 460 - MAE Train Loss: 19.32596778869629 - MAE Test Loss: 19.361356735229492 \n",
      "Epoch: 470 - MAE Train Loss: 19.323701858520508 - MAE Test Loss: 19.33771514892578 \n",
      "Epoch: 480 - MAE Train Loss: 19.32061767578125 - MAE Test Loss: 19.34291648864746 \n",
      "Epoch: 490 - MAE Train Loss: 19.318016052246094 - MAE Test Loss: 19.333576202392578 \n"
     ]
    },
    {
     "data": {
      "image/png": "[encoded data removed]",
      "text/plain": [
       "<Figure size 640x480 with 1 Axes>"
      ]
     },
     "metadata": {},
     "output_type": "display_data"
    }
   ],
   "source": [
    "# Train model using Adam optimizer and 0.001 learning rate\n",
    "adam_model = LinearRegressionModel('Adam')\n",
    "\n",
    "adam_model.trainModel(500, X_train, X_test, y_train, y_test, 0.001)\n",
    "adam_model.plot_loss()"
   ]
  },
  {
   "cell_type": "code",
   "execution_count": 16,
   "metadata": {},
   "outputs": [
    {
     "name": "stdout",
     "output_type": "stream",
     "text": [
      "Epoch: 0 - MAE Train Loss: 73563.203125 - MAE Test Loss: 47404136.0 \n",
      "Epoch: 10 - MAE Train Loss: 73563.2109375 - MAE Test Loss: 47404136.0 \n",
      "Epoch: 20 - MAE Train Loss: 73563.2109375 - MAE Test Loss: 47404136.0 \n",
      "Epoch: 30 - MAE Train Loss: 73563.2109375 - MAE Test Loss: 47404136.0 \n",
      "Epoch: 40 - MAE Train Loss: 73563.2109375 - MAE Test Loss: 47404136.0 \n",
      "Epoch: 50 - MAE Train Loss: 73563.2109375 - MAE Test Loss: 47404136.0 \n",
      "Epoch: 60 - MAE Train Loss: 73563.2109375 - MAE Test Loss: 47404136.0 \n",
      "Epoch: 70 - MAE Train Loss: 73563.2109375 - MAE Test Loss: 47404136.0 \n",
      "Epoch: 80 - MAE Train Loss: 73563.2109375 - MAE Test Loss: 47404136.0 \n",
      "Epoch: 90 - MAE Train Loss: 73563.2109375 - MAE Test Loss: 47404136.0 \n",
      "Epoch: 100 - MAE Train Loss: 73563.2109375 - MAE Test Loss: 47404136.0 \n",
      "Epoch: 110 - MAE Train Loss: 73563.2109375 - MAE Test Loss: 47404136.0 \n",
      "Epoch: 120 - MAE Train Loss: 73563.2109375 - MAE Test Loss: 47404136.0 \n",
      "Epoch: 130 - MAE Train Loss: 73563.2109375 - MAE Test Loss: 47404136.0 \n",
      "Epoch: 140 - MAE Train Loss: 73563.2109375 - MAE Test Loss: 47404136.0 \n",
      "Epoch: 150 - MAE Train Loss: 73563.2109375 - MAE Test Loss: 47404136.0 \n",
      "Epoch: 160 - MAE Train Loss: 73563.2109375 - MAE Test Loss: 47404136.0 \n",
      "Epoch: 170 - MAE Train Loss: 73563.2109375 - MAE Test Loss: 47404136.0 \n",
      "Epoch: 180 - MAE Train Loss: 73563.2109375 - MAE Test Loss: 47404136.0 \n",
      "Epoch: 190 - MAE Train Loss: 73563.2109375 - MAE Test Loss: 47404136.0 \n",
      "Epoch: 200 - MAE Train Loss: 73563.2109375 - MAE Test Loss: 47404136.0 \n",
      "Epoch: 210 - MAE Train Loss: 73563.2109375 - MAE Test Loss: 47404136.0 \n",
      "Epoch: 220 - MAE Train Loss: 73563.2109375 - MAE Test Loss: 47404136.0 \n",
      "Epoch: 230 - MAE Train Loss: 73563.2109375 - MAE Test Loss: 47404136.0 \n",
      "Epoch: 240 - MAE Train Loss: 73563.2109375 - MAE Test Loss: 47404136.0 \n",
      "Epoch: 250 - MAE Train Loss: 73563.2109375 - MAE Test Loss: 47404136.0 \n",
      "Epoch: 260 - MAE Train Loss: 73563.2109375 - MAE Test Loss: 47404136.0 \n",
      "Epoch: 270 - MAE Train Loss: 73563.2109375 - MAE Test Loss: 47404136.0 \n",
      "Epoch: 280 - MAE Train Loss: 73563.2109375 - MAE Test Loss: 47404136.0 \n",
      "Epoch: 290 - MAE Train Loss: 73563.2109375 - MAE Test Loss: 47404136.0 \n",
      "Epoch: 300 - MAE Train Loss: 73563.2109375 - MAE Test Loss: 47404136.0 \n",
      "Epoch: 310 - MAE Train Loss: 73563.2109375 - MAE Test Loss: 47404136.0 \n",
      "Epoch: 320 - MAE Train Loss: 73563.2109375 - MAE Test Loss: 47404136.0 \n",
      "Epoch: 330 - MAE Train Loss: 73563.2109375 - MAE Test Loss: 47404136.0 \n",
      "Epoch: 340 - MAE Train Loss: 73563.2109375 - MAE Test Loss: 47404136.0 \n",
      "Epoch: 350 - MAE Train Loss: 73563.2109375 - MAE Test Loss: 47404136.0 \n",
      "Epoch: 360 - MAE Train Loss: 73563.2109375 - MAE Test Loss: 47404136.0 \n",
      "Epoch: 370 - MAE Train Loss: 73563.2109375 - MAE Test Loss: 47404136.0 \n",
      "Epoch: 380 - MAE Train Loss: 73563.2109375 - MAE Test Loss: 47404136.0 \n",
      "Epoch: 390 - MAE Train Loss: 73563.2109375 - MAE Test Loss: 47404136.0 \n",
      "Epoch: 400 - MAE Train Loss: 73563.2109375 - MAE Test Loss: 47404136.0 \n",
      "Epoch: 410 - MAE Train Loss: 73563.2109375 - MAE Test Loss: 47404136.0 \n",
      "Epoch: 420 - MAE Train Loss: 73563.2109375 - MAE Test Loss: 47404136.0 \n",
      "Epoch: 430 - MAE Train Loss: 73563.2109375 - MAE Test Loss: 47404136.0 \n",
      "Epoch: 440 - MAE Train Loss: 73563.2109375 - MAE Test Loss: 47404136.0 \n",
      "Epoch: 450 - MAE Train Loss: 73563.2109375 - MAE Test Loss: 47404136.0 \n",
      "Epoch: 460 - MAE Train Loss: 73563.2109375 - MAE Test Loss: 47404136.0 \n",
      "Epoch: 470 - MAE Train Loss: 73563.2109375 - MAE Test Loss: 47404136.0 \n",
      "Epoch: 480 - MAE Train Loss: 73563.2109375 - MAE Test Loss: 47404136.0 \n",
      "Epoch: 490 - MAE Train Loss: 73563.2109375 - MAE Test Loss: 47404136.0 \n"
     ]
    },
    {
     "data": {
      "image/png": "[encoded data removed]",
      "text/plain": [
       "<Figure size 640x480 with 1 Axes>"
      ]
     },
     "metadata": {},
     "output_type": "display_data"
    }
   ],
   "source": [
    "# Now use Stochastic Gradient Descent (SGD) optimizer with 0.001 learning rate\n",
    "# Notice that the MAE does not improve. SGD is very sensitive to features and could be optimized by feature scaling\n",
    "sgd_model = LinearRegressionModel('SGD')\n",
    "sgd_model.trainModel(500, X_train, X_test, y_train, y_test, 0.001) \n",
    "sgd_model.plot_loss()"
   ]
  },
  {
   "cell_type": "code",
   "execution_count": null,
   "metadata": {},
   "outputs": [],
   "source": []
  }
 ],
 "metadata": {
  "kernelspec": {
   "display_name": "base",
   "language": "python",
   "name": "python3"
  },
  "language_info": {
   "codemirror_mode": {
    "name": "ipython",
    "version": 3
   },
   "file_extension": ".py",
   "mimetype": "text/x-python",
   "name": "python",
   "nbconvert_exporter": "python",
   "pygments_lexer": "ipython3",
   "version": "3.10.9"
  }
 },
 "nbformat": 4,
 "nbformat_minor": 2
}
